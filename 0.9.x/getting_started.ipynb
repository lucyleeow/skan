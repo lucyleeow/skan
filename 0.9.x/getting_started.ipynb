{
 "cells": [
  {
   "cell_type": "markdown",
   "id": "37acd2fb",
   "metadata": {},
   "source": [
    "## Getting started: Skeleton analysis with Skan\n",
    "\n",
    "Skeleton analysis allows us to measure fine structure in samples. In\n",
    "this case, we are going to measure the network formed by a protein\n",
    "called *spectrin* inside the membrane of a red blood cell, either\n",
    "infected by the malaria parasite *Plasmodium falciparum*, or uninfected.\n",
    "\n",
    "### 0. Extracting a skeleton from an image\n",
    "\n",
    "Skan’s primary purpose is to analyse skeletons. (It primarily mimics the\n",
    "[“Analyze Skeleton” Fiji\n",
    "plugin](https://imagej.net/AnalyzeSkeleton).) In this section, we\n",
    "will run some simple preprocessing on our source images to extract a\n",
    "skeleton, provided by Skan and\n",
    "[scikit-image](https://scikit-image.org), but this is far from the\n",
    "optimal way of extracting a skeleton from an image. Skip to section 1\n",
    "for Skan’s primary functionality.\n",
    "\n",
    "First, we load the images. These images were produced by an FEI scanning\n",
    "electron microscope. [ImageIO](https://imageio.github.io) provides a\n",
    "method to read these images, including metadata."
   ]
  },
  {
   "cell_type": "code",
   "execution_count": null,
   "id": "9e015a1b",
   "metadata": {},
   "outputs": [],
   "source": [
    "from glob import glob\n",
    "import imageio as iio\n",
    "\n",
    "files = glob('example-data/*.tif')\n",
    "image0 = iio.imread(files[0], format='fei')"
   ]
  },
  {
   "cell_type": "markdown",
   "id": "daee29e1",
   "metadata": {},
   "source": [
    "We display the images with [Matplotlib](http://matplotlib.org)."
   ]
  },
  {
   "cell_type": "code",
   "execution_count": null,
   "id": "16ccdcda",
   "metadata": {},
   "outputs": [],
   "source": [
    "%matplotlib inline"
   ]
  },
  {
   "cell_type": "code",
   "execution_count": null,
   "id": "f0e3a43a",
   "metadata": {},
   "outputs": [],
   "source": [
    "import matplotlib.pyplot as plt\n",
    "\n",
    "\n",
    "fig, ax = plt.subplots()\n",
    "ax.imshow(image0, cmap='gray');"
   ]
  },
  {
   "cell_type": "markdown",
   "id": "8ac1c5cb",
   "metadata": {},
   "source": [
    "As an aside, we can extract the pixel spacing in meters from the\n",
    "`.meta` attribute of the ImageIO image:"
   ]
  },
  {
   "cell_type": "code",
   "execution_count": null,
   "id": "1ff26609",
   "metadata": {},
   "outputs": [],
   "source": [
    "import numpy as np\n",
    "\n",
    "spacing = image0.meta['Scan']['PixelHeight']\n",
    "spacing_nm = spacing * 1e9  # nm per pixel\n",
    "dim_nm = np.array(image0.shape) / spacing_nm\n",
    "\n",
    "fig, ax = plt.subplots()\n",
    "ax.imshow(image0, cmap='gray',\n",
    "          extent=[0, dim_nm[1], dim_nm[0], 0]);\n",
    "ax.set_xlabel('x (nm)')\n",
    "ax.set_ylabel('y (nm)');"
   ]
  },
  {
   "cell_type": "markdown",
   "id": "9f1655eb",
   "metadata": {},
   "source": [
    "This is an image of the inside of the membrane of a red blood cell. We\n",
    "want to measure the network of bright regions in this image, which is\n",
    "made up of a protein called *spectrin*. Our strategy will be to:\n",
    "\n",
    "* smooth the image with Gaussian smoothing\n",
    "\n",
    "* threshold the image with Sauvola thresholding (Otsu thresholding also\n",
    "  works)\n",
    "\n",
    "* skeletonise the resulting binary image\n",
    "\n",
    "These steps can be performed by a single function in Skan,\n",
    "`skan.pre.threshold`. We use parameters derived from the metadata, so\n",
    "that our analysis is portable to images taken at slightly different\n",
    "physical resolutions."
   ]
  },
  {
   "cell_type": "code",
   "execution_count": null,
   "id": "f1e703fc",
   "metadata": {},
   "outputs": [],
   "source": [
    "from skan.pre import threshold\n",
    "\n",
    "smooth_radius = 5 / spacing_nm  # float OK\n",
    "threshold_radius = int(np.ceil(50 / spacing_nm))\n",
    "binary0 = threshold(image0, sigma=smooth_radius,\n",
    "                    radius=threshold_radius)\n",
    "\n",
    "fig, ax = plt.subplots()\n",
    "ax.imshow(binary0);"
   ]
  },
  {
   "cell_type": "markdown",
   "id": "2da9bdcf",
   "metadata": {},
   "source": [
    "(There are some thresholding artifacts around the left edge, due to the\n",
    "dark border caused by microscope imaging drift and alignment. We will\n",
    "ignore this in this document, but the Skan GUI allows for a “crop”\n",
    "parameter to filter out these regions.)\n",
    "\n",
    "Finally, we skeletonise this binary image:"
   ]
  },
  {
   "cell_type": "code",
   "execution_count": null,
   "id": "368c5ef1",
   "metadata": {},
   "outputs": [],
   "source": [
    "from skimage import morphology\n",
    "\n",
    "skeleton0 = morphology.skeletonize(binary0)"
   ]
  },
  {
   "cell_type": "markdown",
   "id": "4970385b",
   "metadata": {},
   "source": [
    "Skan has functions for drawing skeletons in 2D:"
   ]
  },
  {
   "cell_type": "code",
   "execution_count": null,
   "id": "ad8af142",
   "metadata": {},
   "outputs": [],
   "source": [
    "from skan import draw\n",
    "\n",
    "fig, ax = plt.subplots()\n",
    "draw.overlay_skeleton_2d(image0, skeleton0, dilate=1, axes=ax);"
   ]
  },
  {
   "cell_type": "markdown",
   "id": "9c740055",
   "metadata": {},
   "source": [
    "# 1. Measuring the length of skeleton branches\n",
    "\n",
    "Now that we have a skeleton, we can use Skan’s primary functions:\n",
    "producing a network of skeleton pixels, and measuring the properties of\n",
    "branches along that network."
   ]
  },
  {
   "cell_type": "code",
   "execution_count": null,
   "id": "0f45d00f",
   "metadata": {},
   "outputs": [],
   "source": [
    "from skan import skeleton_to_csgraph\n",
    "\n",
    "pixel_graph, coordinates, degrees = skeleton_to_csgraph(skeleton0)"
   ]
  },
  {
   "cell_type": "markdown",
   "id": "d4d17c6d",
   "metadata": {},
   "source": [
    "The pixel graph is a SciPy [CSR\n",
    "matrix](https://docs.scipy.org/doc/scipy/reference/generated/scipy.sparse.csr_matrix.html)\n",
    "in which entry $(i, j)$ is 0 if pixels $i$ and $j$ are\n",
    "not connected, and otherwise is equal to the distance between pixels\n",
    "$i$ and $j$ in the skeleton. This will normally be 1 between\n",
    "adjacent pixels and $\\sqrt{2}$ between diagonally adjacent pixels,\n",
    "but in this can be scaled by a `spacing=` keyword argument that sets\n",
    "the scale (and this scale can be different for each image axis). In our\n",
    "case, we know the spacing between pixels, so we can measure our network\n",
    "in physical units instead of pixels:"
   ]
  },
  {
   "cell_type": "code",
   "execution_count": null,
   "id": "d88a3875",
   "metadata": {},
   "outputs": [],
   "source": [
    "pixel_graph0, coordinates0, degrees0 = skeleton_to_csgraph(skeleton0,\n",
    "                                                           spacing=spacing_nm)"
   ]
  },
  {
   "cell_type": "markdown",
   "id": "2281e57c",
   "metadata": {},
   "source": [
    "The second variable contains the coordinates (in pixel units) of the\n",
    "points in the pixel graph. Finally, `degrees` is an image of the\n",
    "skeleton, with each skeleton pixel containing the number of neighbouring\n",
    "pixels. This enables us to distinguish between *junctions* (where three\n",
    "or more skeleton branches meet), *endpoints* (where a skeleton ends),\n",
    "and *paths* (pixels on the inside of a skeleton branch.\n",
    "\n",
    "These intermediate objects contain all the information we need from the\n",
    "skeleton, but in a more useful format. It is still difficult to\n",
    "interpret, however, and the best option might be to visualise a couple\n",
    "of minimal examples. Skan provides a function to do this. (Because of\n",
    "the way NetworkX and Matplotlib draw networks, this method is only\n",
    "recommended for very small networks.)"
   ]
  },
  {
   "cell_type": "code",
   "execution_count": null,
   "id": "bb9b390b",
   "metadata": {},
   "outputs": [],
   "source": [
    "from skan import _testdata\n",
    "g0, c0, _ = skeleton_to_csgraph(_testdata.skeleton0)\n",
    "g1, c1, _ = skeleton_to_csgraph(_testdata.skeleton1)\n",
    "fig, axes = plt.subplots(1, 2)\n",
    "\n",
    "draw.overlay_skeleton_networkx(g0, c0, image=_testdata.skeleton0,\n",
    "                               axis=axes[0])\n",
    "draw.overlay_skeleton_networkx(g1, c1, image=_testdata.skeleton1,\n",
    "                               axis=axes[1])"
   ]
  },
  {
   "cell_type": "markdown",
   "id": "ce06e38e",
   "metadata": {},
   "source": [
    "For more sophisticated analyses, the `skan.Skeleton` class provides a\n",
    "way to keep all relevant information (the CSR matrix, the image, the\n",
    "node coordinates…) together.\n",
    "\n",
    "The function `skan.summarize` uses this class to trace the path from\n",
    "junctions (node 3 in the left graph, 8 and 13 in the right graph) to\n",
    "endpoints (1, 4, and 10 on the left, and 14 and 17 on the right) and\n",
    "other junctions. It then produces a junction graph and table in the form\n",
    "of a pandas DataFrame.\n",
    "\n",
    "Let’s go back to the red blood cell image to illustrate this graph."
   ]
  },
  {
   "cell_type": "code",
   "execution_count": null,
   "id": "93d338ae",
   "metadata": {},
   "outputs": [],
   "source": [
    "from skan import Skeleton, summarize\n",
    "branch_data = summarize(Skeleton(skeleton0, spacing=spacing_nm))\n",
    "branch_data.head()"
   ]
  },
  {
   "cell_type": "markdown",
   "id": "3aa2628b",
   "metadata": {},
   "source": [
    "The branch distance is the sum of the distances along path nodes between\n",
    "two nodes, in natural scale (given by `spacing`).\n",
    "\n",
    "The branch type is coded by number as:\n",
    "\n",
    "endpoint-to-endpoint (isolated branch)\n",
    "\n",
    "junction-to-endpoint\n",
    "\n",
    "junction-to-junction\n",
    "\n",
    "isolated cycle\n",
    "\n",
    "Next come the coordinates in natural space, the Euclidean distance\n",
    "between the points, and the coordinates in image space (pixels).\n",
    "Finally, the unique IDs of the endpoints of the branch (these correspond\n",
    "to the pixel indices in the CSR representation above), and the unique ID\n",
    "of the skeleton that the branch belongs to.\n",
    "\n",
    "This data table follows the “tidy data” paradigm, with one row per\n",
    "branch, which allows fast exploration of branch statistics. Here, for\n",
    "example, we plot the distribution of branch lengths according to branch\n",
    "type:"
   ]
  },
  {
   "cell_type": "code",
   "execution_count": null,
   "id": "3dbde6a5",
   "metadata": {},
   "outputs": [],
   "source": [
    "branch_data.hist(column='branch-distance', by='branch-type', bins=100);"
   ]
  },
  {
   "cell_type": "markdown",
   "id": "bf5dc60f",
   "metadata": {},
   "source": [
    "We can see that junction-to-junction branches tend to be longer than\n",
    "junction-to-endpoint and junction isolated branches, and that there are\n",
    "no cycles in our dataset.\n",
    "\n",
    "We can also represent this visually with the\n",
    "`overlay_euclidean_skeleton`, which colormaps branches according to a\n",
    "user-selected attribute in the table:"
   ]
  },
  {
   "cell_type": "code",
   "execution_count": null,
   "id": "5c12752b",
   "metadata": {},
   "outputs": [],
   "source": [
    "draw.overlay_euclidean_skeleton_2d(image0, branch_data,\n",
    "                                   skeleton_color_source='branch-type');"
   ]
  },
  {
   "cell_type": "markdown",
   "id": "60fae29a",
   "metadata": {},
   "source": [
    "# 2. Comparing different skeletons\n",
    "\n",
    "Now we can use Python’s data analysis tools to answer a scientific\n",
    "question: do malaria-infected red blood cells differ in their spectrin\n",
    "skeleton?"
   ]
  },
  {
   "cell_type": "code",
   "execution_count": null,
   "id": "c787bc55",
   "metadata": {},
   "outputs": [],
   "source": [
    "import pandas as pd\n",
    "\n",
    "images = [iio.imread(file, format='fei')\n",
    "          for file in files]\n",
    "spacings = [image.meta['Scan']['PixelHeight']\n",
    "            for image in images]\n",
    "spacings_nm = 1e9 * np.array(spacings)\n",
    "\n",
    "\n",
    "def skeletonize(images, spacings_nm):\n",
    "    smooth_radii = 5 / spacings_nm  # float OK\n",
    "    threshold_radii = np.ceil(50 / spacings_nm).astype(int)\n",
    "    binaries = (threshold(image, sigma=smooth_radius,\n",
    "                          radius=threshold_radius)\n",
    "                for image, smooth_radius, threshold_radius\n",
    "                in zip(images, smooth_radii, threshold_radii))\n",
    "    skeletons = map(morphology.skeletonize, binaries)\n",
    "    return skeletons\n",
    "\n",
    "\n",
    "skeletons = skeletonize(images, spacings_nm)\n",
    "tables = [summarize(Skeleton(skeleton, spacing=spacing))\n",
    "          for skeleton, spacing in zip(skeletons, spacings_nm)]\n",
    "\n",
    "for filename, dataframe in zip(files, tables):\n",
    "    dataframe['filename'] = filename\n",
    "\n",
    "table = pd.concat(tables)"
   ]
  },
  {
   "cell_type": "markdown",
   "id": "c064f484",
   "metadata": {},
   "source": [
    "This analysis is quite verbose, which is why the `skan.pipe` module\n",
    "exists. It will be covered in a separate document.\n",
    "\n",
    "Now, however, we have a tidy data table with information about the\n",
    "sample origin of the data, allowing us to analyse the effects of\n",
    "treatment on our skeleton measurement. We will use only\n",
    "junction-to-junction branches."
   ]
  },
  {
   "cell_type": "code",
   "execution_count": null,
   "id": "1dc95e06",
   "metadata": {},
   "outputs": [],
   "source": [
    "import seaborn as sns\n",
    "\n",
    "j2j = (table[table['branch-type'] == 2].\n",
    "       rename(columns={'branch-distance':\n",
    "                       'branch distance (nm)'}))\n",
    "per_image = j2j.groupby('filename').median()\n",
    "per_image['infected'] = ['infected' if 'inf' in fn else 'normal'\n",
    "                         for fn in per_image.index]\n",
    "sns.stripplot(data=per_image,\n",
    "              x='infected', y='branch distance (nm)',\n",
    "              order=['normal', 'infected'],\n",
    "              jitter=True);"
   ]
  },
  {
   "cell_type": "markdown",
   "id": "04b248e0",
   "metadata": {},
   "source": [
    "We now have a hint that infection by the malaria-causing parasite,\n",
    "*Plasmodium falciparum*, might expand the spectrin skeleton on the inner\n",
    "surface of the RBC membrane.\n",
    "\n",
    "This is of course a toy example. For the full dataset and analysis, see:\n",
    "\n",
    "* our [PeerJ paper](https://peerj.com/articles/4312/) (and [please\n",
    "  cite\n",
    "  it](https://ilovesymposia.com/2019/05/02/why-you-should-cite-open-source-tools/)\n",
    "  if you publish using skan!),\n",
    "\n",
    "* the [“Complete analysis with skan”](complete_analysis.html) page,\n",
    "  and\n",
    "\n",
    "* the [skan-scripts](https://github.com/jni/skan-scripts)\n",
    "  repository.\n",
    "\n",
    "But we hope this minimal example will serve for inspiration for your\n",
    "future analysis of skeleton images.\n",
    "\n",
    "If you are interested in how we used [numba](https://numba.pydata.org/)\n",
    "to accelerate some parts of Skan, check out [jni’s talk](https://www.youtube.com/watch?v=0pUPNMglnaE)\n",
    "at the the SciPy 2019 conference."
   ]
  }
 ],
 "metadata": {},
 "nbformat": 4,
 "nbformat_minor": 5
}