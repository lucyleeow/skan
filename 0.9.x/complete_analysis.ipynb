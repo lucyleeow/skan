{
 "cells": [
  {
   "cell_type": "markdown",
   "id": "25e3fd8e",
   "metadata": {},
   "source": [
    "## Complete analysis with Skan\n",
    "\n",
    "In this notebook, we reproduce the analysis leading to Figure 2 of our\n",
    "paper, submitted to PeerJ.\n",
    "\n",
    "### 0. Getting the data\n",
    "\n",
    "First, we need to download the input data, which is posted at the Open\n",
    "Science Framework (OSF) as a zip file. Many thanks to the OSF for\n",
    "providing hosting for scientific data. The data be downloaded at this\n",
    "URL:\n",
    "\n",
    "```\n",
    "https://osf.io/7vyx3\n",
    "```\n",
    "\n",
    "Download and extract the zipfile, and make sure the `schizonts` folder\n",
    "contained within it is placed in this notebook’s working directory.\n",
    "\n",
    "### 1. Using `skan.pipe` to get a branch dataset for analysis"
   ]
  },
  {
   "cell_type": "code",
   "execution_count": null,
   "id": "affd543d",
   "metadata": {},
   "outputs": [],
   "source": [
    "from glob import glob\n",
    "\n",
    "\n",
    "schizont_files = glob('schizonts/*.tif')\n",
    "# remove files ending with '01.tif', which are low-res overview images\n",
    "schizont_files = list(filter(lambda x: not x.endswith('01.tif'),\n",
    "                             schizont_files))"
   ]
  },
  {
   "cell_type": "markdown",
   "id": "bebbcf05",
   "metadata": {},
   "source": [
    "Now we process all 96 images. This should take about a minute on a\n",
    "modern laptop, but could be faster on a multicore machine, as it\n",
    "processes images using as many CPUs as are avaliable."
   ]
  },
  {
   "cell_type": "code",
   "execution_count": null,
   "id": "7b5761b9",
   "metadata": {},
   "outputs": [],
   "source": [
    "from skan import pipe\n",
    "import toolz as tz\n",
    "\n",
    "\n",
    "data, per_image_data = tz.last(pipe.process_images(\n",
    "    schizont_files,\n",
    "    image_format='fei',\n",
    "    threshold_radius=5e-8,\n",
    "    smooth_radius=0.1,\n",
    "    brightness_offset=0.075,\n",
    "    scale_metadata_path='Scan/PixelHeight',\n",
    "    crop_radius=20,\n",
    "    smooth_method='Gaussian'\n",
    "))"
   ]
  },
  {
   "cell_type": "markdown",
   "id": "bb3d78c6",
   "metadata": {},
   "source": [
    "96it [00:29,  8.33it/s]\n",
    "\n",
    "Next, we use the filename to infer the infection status of each image."
   ]
  },
  {
   "cell_type": "code",
   "execution_count": null,
   "id": "9850cd4f",
   "metadata": {},
   "outputs": [],
   "source": [
    "def infection_status(filename):\n",
    "    if 'Uninf' in filename:\n",
    "        return 'normal'\n",
    "    else:\n",
    "        return 'infected'\n",
    "\n",
    "\n",
    "data['infection'] = data['filename'].apply(infection_status)"
   ]
  },
  {
   "cell_type": "markdown",
   "id": "742792fb",
   "metadata": {},
   "source": [
    "Also encoded in the filename are the *cell number* (unique by infection\n",
    "status) and the *field number* (each cell membrane is imaged at several\n",
    "non-overlapping locations)."
   ]
  },
  {
   "cell_type": "code",
   "execution_count": null,
   "id": "f965d344",
   "metadata": {},
   "outputs": [],
   "source": [
    "import re  # regular expressions, for text matching\n",
    "\n",
    "\n",
    "def cell_number(filename):\n",
    "    regex = r'.*RBC(\\d+)_\\d\\d.tif'\n",
    "    regex = re.compile(regex)\n",
    "    match = regex.match(filename)\n",
    "    if match is not None:\n",
    "        return int(match.group(1))\n",
    "    else:\n",
    "        return None\n",
    "\n",
    "def field_number(filename):\n",
    "    regex = r'.*RBC\\d+_(\\d\\d).tif'\n",
    "    regex = re.compile(regex)\n",
    "    match = regex.match(filename)\n",
    "    if match is not None:\n",
    "        return int(match.group(1))\n",
    "    else:\n",
    "        return None\n",
    "\n",
    "data['cell number'] = data['filename'].apply(cell_number)\n",
    "data['field number'] = data['filename'].apply(field_number)"
   ]
  },
  {
   "cell_type": "markdown",
   "id": "a1c39d59",
   "metadata": {},
   "source": [
    "# 2. Cleaning up the data\n",
    "\n",
    "Next, we filter the branches by using the [shape\n",
    "index](http://scikit-image.org/docs/dev/api/skimage.feature.html#skimage.feature.shape_index).\n",
    "We have used a very simple method to extract skeletons (see [Getting\n",
    "started](getting_started.html)), which does an acceptable job but\n",
    "creates a lot of false branches. Since the goal of Skan is to analyse\n",
    "skeletons, rather than generate them, we attempt to filter the branches,\n",
    "and measure only those that look like ridges according to the shape\n",
    "index."
   ]
  },
  {
   "cell_type": "code",
   "execution_count": null,
   "id": "d41c9fa7",
   "metadata": {},
   "outputs": [],
   "source": [
    "ridges = ((data['mean shape index'] < 0.625) &\n",
    "          (data['mean shape index'] > 0.125))"
   ]
  },
  {
   "cell_type": "markdown",
   "id": "49bae1f0",
   "metadata": {},
   "source": [
    "For the same reason, we only look at junction-to-junction branches,\n",
    "which are more accurately identified by our method than\n",
    "junction-to-endpoint branches."
   ]
  },
  {
   "cell_type": "code",
   "execution_count": null,
   "id": "ad4acc10",
   "metadata": {},
   "outputs": [],
   "source": [
    "j2j = data['branch-type'] == 2\n",
    "datar = data.loc[ridges & j2j].copy()"
   ]
  },
  {
   "cell_type": "markdown",
   "id": "baee35ec",
   "metadata": {},
   "source": [
    "Finally, we make a new column of measurements in a more natural scale\n",
    "for our purpose."
   ]
  },
  {
   "cell_type": "code",
   "execution_count": null,
   "id": "73e820d3",
   "metadata": {},
   "outputs": [],
   "source": [
    "datar['branch distance (nm)'] = datar['branch-distance'] * 1e9"
   ]
  },
  {
   "cell_type": "markdown",
   "id": "ddd5d23a",
   "metadata": {},
   "source": [
    "# 3. Making the figure"
   ]
  },
  {
   "cell_type": "code",
   "execution_count": null,
   "id": "c7299376",
   "metadata": {},
   "outputs": [],
   "source": [
    "%matplotlib inline"
   ]
  },
  {
   "cell_type": "code",
   "execution_count": null,
   "id": "34418e91",
   "metadata": {},
   "outputs": [],
   "source": [
    "import numpy as np\n",
    "import imageio as iio\n",
    "from skimage import morphology\n",
    "import matplotlib.pyplot as plt\n",
    "import seaborn as sns\n",
    "\n",
    "from skan.pre import threshold"
   ]
  },
  {
   "cell_type": "code",
   "execution_count": null,
   "id": "e4d5cde5",
   "metadata": {},
   "outputs": [],
   "source": [
    "fig, axes = plt.subplots(2, 2)\n",
    "ax = axes.ravel()\n",
    "\n",
    "# PANEL A\n",
    "# display an arbitrary image\n",
    "crop = (slice(20, -20),) * 2\n",
    "image_raw = iio.imread('schizonts/schizont4_UninfRBC7_06.tif',\n",
    "                       format='fei')\n",
    "image = image_raw[crop]\n",
    "ax[0].imshow(image, cmap='gray')\n",
    "ax[0].set_axis_off()\n",
    "\n",
    "# add a 300nm scale bar\n",
    "height, width = image.shape\n",
    "scalenm = image.meta['Scan']['PixelHeight'] * 10**9\n",
    "ax[0].plot((1096, 1096 + 300 / scalenm), (940, 940),\n",
    "           c='k', lw=2);\n",
    "\n",
    "# PANEL B\n",
    "# Next, show the smoothed binary image and corresponding skeleton\n",
    "radius = int(np.ceil(50/scalenm))\n",
    "sigma = radius * 0.1\n",
    "thresholded = threshold(image, sigma=sigma,\n",
    "                        radius=radius, offset=0.075,\n",
    "                        smooth_method='gaussian')\n",
    "viz = np.zeros(image.shape + (3,), dtype=float)\n",
    "viz[thresholded] = [1, 1, 1]\n",
    "skeleton = morphology.skeletonize(thresholded)\n",
    "fat_skeleton = morphology.binary_dilation(skeleton)\n",
    "viz[fat_skeleton] = [1, 0, 0]\n",
    "ax[1].imshow(viz)\n",
    "ax[1].set_axis_off()\n",
    "ax[1].plot((1096, 1096 + 300 / scalenm), (940, 940),\n",
    "           c='g', lw=2)\n",
    "\n",
    "# PANEL C\n",
    "# Add a panel with a histogram of all branch lengths by infection status\n",
    "_, bins = np.histogram(datar['branch distance (nm)'], bins='auto')\n",
    "for inf, df in (datar.sort_values(by='infection', ascending=False)\n",
    "                .groupby('infection', sort=False)):\n",
    "    ax[2].hist(df['branch distance (nm)'], bins=bins,\n",
    "               density=True, alpha=0.5, label=inf)\n",
    "\n",
    "ax[2].legend()\n",
    "ax[2].set_xlabel('branch distance (nm)')\n",
    "ax[2].set_ylabel('density')\n",
    "\n",
    "# PANEL D\n",
    "# Finally, a panel grouping the data by cell, showing the difference\n",
    "# between infected and uninfected cells\n",
    "cellmeans = (datar.groupby(['infection', 'cell number'])\n",
    "                  .mean().reset_index())\n",
    "sns.stripplot(x='infection', y='branch distance (nm)', data=cellmeans,\n",
    "              jitter=True, order=('normal', 'infected'), ax=ax[3])\n",
    "\n",
    "ax[3].set_xlabel('infection status')\n",
    "ax[3].set_ylabel('mean branch distance\\nby cell (nm)')\n",
    "\n",
    "# Use matplotlib's automatic layout algorithm\n",
    "fig.tight_layout()"
   ]
  }
 ],
 "metadata": {},
 "nbformat": 4,
 "nbformat_minor": 5
}